{
  "nbformat": 4,
  "nbformat_minor": 0,
  "metadata": {
    "colab": {
      "provenance": []
    },
    "kernelspec": {
      "name": "python3",
      "display_name": "Python 3"
    },
    "language_info": {
      "name": "python"
    }
  },
  "cells": [
    {
      "cell_type": "code",
      "execution_count": 26,
      "metadata": {
        "id": "KQSxOQ7cSCGZ"
      },
      "outputs": [],
      "source": [
        "import math\n",
        "from scipy.stats import norm, stats, chisquare, chi2, chi2_contingency\n",
        "import numpy as np"
      ]
    },
    {
      "cell_type": "code",
      "source": [
        "# Problem Statement 1\n",
        "# Define each hypothesis scenario and validate if it's correctly stated\n",
        "def validate_hypothesis():\n",
        "    hypotheses = [\n",
        "        {\"H0\": \"μ = 25\", \"H1\": \"μ ≠ 25\", \"parameter\": \"μ\", \"correct\": True},\n",
        "        {\"H0\": \"σ > 10\", \"H1\": \"σ = 10\", \"parameter\": \"σ\", \"correct\": False},\n",
        "        {\"H0\": \"x = 50\", \"H1\": \"x ≠ 50\", \"parameter\": \"x\", \"correct\": False},\n",
        "        {\"H0\": \"p = 0.1\", \"H1\": \"p = 0.5\", \"parameter\": \"p\", \"correct\": False},\n",
        "        {\"H0\": \"s = 30\", \"H1\": \"s > 30\", \"parameter\": \"s\", \"correct\": False},\n",
        "    ]\n",
        "\n",
        "    results = []\n",
        "    for i, hypo in enumerate(hypotheses, 1):\n",
        "        parameter = hypo[\"parameter\"]\n",
        "        correct = hypo[\"correct\"]\n",
        "\n",
        "        if correct:\n",
        "            reason = f\"Correctly stated: Hypothesis is about the population parameter {parameter}.\"\n",
        "        else:\n",
        "            if parameter == \"σ\" and hypo[\"H0\"] == \"σ > 10\":\n",
        "                reason = \"Incorrect: The null hypothesis should typically include equality (e.g., H0: σ = 10).\"\n",
        "            elif parameter == \"x\":\n",
        "                reason = \"Incorrect: Hypothesis testing should involve population parameters, not sample statistics.\"\n",
        "            elif parameter == \"p\":\n",
        "                reason = \"Incorrect: The null and alternative hypotheses should refer to the same parameter with different assumed values.\"\n",
        "            elif parameter == \"s\":\n",
        "                reason = \"Incorrect: Hypothesis testing should involve the population parameter (σ), not the sample standard deviation (s).\"\n",
        "\n",
        "        results.append(f\"Problem {i}: {reason}\")\n",
        "\n",
        "    return results\n",
        "\n",
        "# Display validation results\n",
        "for result in validate_hypothesis():\n",
        "    print(result)\n"
      ],
      "metadata": {
        "colab": {
          "base_uri": "https://localhost:8080/"
        },
        "id": "VQyrWaXwSZ5O",
        "outputId": "d2434087-6e79-49f6-ea4f-9bdc02aa2ca5"
      },
      "execution_count": 1,
      "outputs": [
        {
          "output_type": "stream",
          "name": "stdout",
          "text": [
            "Problem 1: Correctly stated: Hypothesis is about the population parameter μ.\n",
            "Problem 2: Incorrect: The null hypothesis should typically include equality (e.g., H0: σ = 10).\n",
            "Problem 3: Incorrect: Hypothesis testing should involve population parameters, not sample statistics.\n",
            "Problem 4: Incorrect: The null and alternative hypotheses should refer to the same parameter with different assumed values.\n",
            "Problem 5: Incorrect: Hypothesis testing should involve the population parameter (σ), not the sample standard deviation (s).\n"
          ]
        }
      ]
    },
    {
      "cell_type": "code",
      "source": [
        "# Problem Statement 2\n",
        "mu_0 = 52            # Population mean\n",
        "sigma = 4.50         # Population standard deviation\n",
        "n = 100              # Sample size\n",
        "x_bar = 52.80        # Sample mean\n",
        "alpha = 0.05         # Significance level\n",
        "\n",
        "# Step 1: Calculate the z-score\n",
        "z = (x_bar - mu_0) / (sigma / math.sqrt(n))\n",
        "\n",
        "# Step 2: Determine the critical value for a one-tailed test\n",
        "z_critical = norm.ppf(1 - alpha)\n",
        "\n",
        "# Step 3: Make a decision\n",
        "decision = \"Reject the null hypothesis\" if z > z_critical else \"Fail to reject the null hypothesis\"\n",
        "\n",
        "# Results\n",
        "print(f\"Test statistic (z): {z:.2f}\")\n",
        "print(f\"Critical value (z_critical): {z_critical:.2f}\")\n",
        "print(f\"Decision: {decision}\")\n"
      ],
      "metadata": {
        "colab": {
          "base_uri": "https://localhost:8080/"
        },
        "id": "-7JY7ZPeSr-7",
        "outputId": "3c2d66fc-39fd-4690-d9ed-a0961cce4ef0"
      },
      "execution_count": 3,
      "outputs": [
        {
          "output_type": "stream",
          "name": "stdout",
          "text": [
            "Test statistic (z): 1.78\n",
            "Critical value (z_critical): 1.64\n",
            "Decision: Reject the null hypothesis\n"
          ]
        }
      ]
    },
    {
      "cell_type": "code",
      "source": [
        "# Problem Statement 3\n",
        "mu_0 = 34             # Population mean\n",
        "sigma = 8             # Population standard deviation\n",
        "n = 50                # Sample size\n",
        "x_bar = 32.5          # Sample mean\n",
        "alpha = 0.01          # Significance level\n",
        "\n",
        "# Step 1: Calculate the z-score\n",
        "z = (x_bar - mu_0) / (sigma / math.sqrt(n))\n",
        "\n",
        "# Step 2: Determine the critical value for a one-tailed test\n",
        "z_critical = norm.ppf(alpha)  # Since it's a left-tailed test\n",
        "\n",
        "# Step 3: Make a decision\n",
        "decision = \"Reject the null hypothesis\" if z < z_critical else \"Fail to reject the null hypothesis\"\n",
        "\n",
        "# Results\n",
        "print(f\"Test statistic (z): {z:.2f}\")\n",
        "print(f\"Critical value (z_critical): {z_critical:.2f}\")\n",
        "print(f\"Decision: {decision}\")\n"
      ],
      "metadata": {
        "colab": {
          "base_uri": "https://localhost:8080/"
        },
        "id": "g97WDvnUSw1e",
        "outputId": "35392a13-8091-42ee-9d62-0c812d8d3782"
      },
      "execution_count": 4,
      "outputs": [
        {
          "output_type": "stream",
          "name": "stdout",
          "text": [
            "Test statistic (z): -1.33\n",
            "Critical value (z_critical): -2.33\n",
            "Decision: Fail to reject the null hypothesis\n"
          ]
        }
      ]
    },
    {
      "cell_type": "code",
      "source": [
        "# Problem Statement 4\n",
        "data = np.array([\n",
        "    1008, 812, 1117, 1323, 1308, 1415, 831, 1021, 1287,\n",
        "    851, 930, 730, 699, 872, 913, 944, 954, 987, 1695,\n",
        "    995, 1003, 994\n",
        "])\n",
        "\n",
        "# Constants\n",
        "mu_0 = 1135  # Population mean\n",
        "alpha = 0.05  # Significance level\n",
        "n = len(data)  # Sample size\n",
        "\n",
        "# Step 1: Calculate sample mean and sample standard deviation\n",
        "x_bar = np.mean(data)\n",
        "s = np.std(data, ddof=1)  # Sample standard deviation\n",
        "\n",
        "# Step 2: Calculate the t-statistic\n",
        "t_statistic = (x_bar - mu_0) / (s / np.sqrt(n))\n",
        "\n",
        "# Step 3: Determine the critical value for a two-tailed test\n",
        "t_critical = stats.t.ppf(1 - alpha/2, df=n-1)\n",
        "\n",
        "# Step 4: Make a decision\n",
        "decision = \"Reject the null hypothesis\" if abs(t_statistic) > t_critical else \"Fail to reject the null hypothesis\"\n",
        "\n",
        "# Results\n",
        "print(f\"Sample Mean (x_bar): {x_bar:.2f}\")\n",
        "print(f\"Sample Standard Deviation (s): {s:.2f}\")\n",
        "print(f\"Test Statistic (t): {t_statistic:.2f}\")\n",
        "print(f\"Critical Value (t_critical): {t_critical:.2f}\")\n",
        "print(f\"Decision: {decision}\")\n"
      ],
      "metadata": {
        "colab": {
          "base_uri": "https://localhost:8080/"
        },
        "id": "0iNyahzYS-Qg",
        "outputId": "9193396a-871d-4818-922b-5037df47b6a5"
      },
      "execution_count": 9,
      "outputs": [
        {
          "output_type": "stream",
          "name": "stdout",
          "text": [
            "Sample Mean (x_bar): 1031.32\n",
            "Sample Standard Deviation (s): 240.37\n",
            "Test Statistic (t): -2.02\n",
            "Critical Value (t_critical): 2.08\n",
            "Decision: Fail to reject the null hypothesis\n"
          ]
        }
      ]
    },
    {
      "cell_type": "code",
      "source": [
        "# Problem Statement 5\n",
        "mu_0 = 48432  # Null hypothesis mean\n",
        "x_bar = 48574  # Sample mean\n",
        "s = 2000  # Sample standard deviation\n",
        "n = 400  # Sample size\n",
        "alpha = 0.05  # Significance level\n",
        "\n",
        "# Step 4: Calculate the Z statistic\n",
        "z_statistic = (x_bar - mu_0) / (s / np.sqrt(n))\n",
        "\n",
        "# Step 5: Calculate the critical Z value for a two-tailed test\n",
        "z_critical = stats.norm.ppf(1 - alpha/2)\n",
        "\n",
        "# Step 6: Make a decision\n",
        "decision = \"Reject the null hypothesis\" if abs(z_statistic) > z_critical else \"Fail to reject the null hypothesis\"\n",
        "\n",
        "# Results\n",
        "print(f\"Sample Mean (x_bar): {x_bar}\")\n",
        "print(f\"Population Mean (mu_0): {mu_0}\")\n",
        "print(f\"Z Statistic: {z_statistic:.4f}\")\n",
        "print(f\"Critical Z Value: {z_critical:.4f}\")\n",
        "print(f\"Decision: {decision}\")\n"
      ],
      "metadata": {
        "colab": {
          "base_uri": "https://localhost:8080/"
        },
        "id": "jOZUep5LTdaa",
        "outputId": "42dda9b0-64c7-4cd3-cee3-e30ac7e79454"
      },
      "execution_count": 10,
      "outputs": [
        {
          "output_type": "stream",
          "name": "stdout",
          "text": [
            "Sample Mean (x_bar): 48574\n",
            "Population Mean (mu_0): 48432\n",
            "Z Statistic: 1.4200\n",
            "Critical Z Value: 1.9600\n",
            "Decision: Fail to reject the null hypothesis\n"
          ]
        }
      ]
    },
    {
      "cell_type": "code",
      "source": [
        "# Problem Statement 6\n",
        "mu_0 = 32.28  # Null hypothesis mean\n",
        "x_bar = 31.67  # Sample mean\n",
        "s = 1.29  # Sample standard deviation\n",
        "n = 19  # Sample size\n",
        "alpha = 0.05  # Significance level\n",
        "\n",
        "# Step 4: Calculate the t statistic\n",
        "t_statistic = (x_bar - mu_0) / (s / np.sqrt(n))\n",
        "\n",
        "# Step 5: Calculate the critical t value for a two-tailed test\n",
        "t_critical = stats.t.ppf(1 - alpha/2, df=n-1)\n",
        "\n",
        "# Step 6: Make a decision\n",
        "decision = \"Reject the null hypothesis\" if abs(t_statistic) > t_critical else \"Fail to reject the null hypothesis\"\n",
        "\n",
        "# Results\n",
        "print(f\"Sample Mean (x_bar): {x_bar}\")\n",
        "print(f\"Population Mean (mu_0): {mu_0}\")\n",
        "print(f\"T Statistic: {t_statistic:.4f}\")\n",
        "print(f\"Critical T Value: {t_critical:.4f}\")\n",
        "print(f\"Decision: {decision}\")\n"
      ],
      "metadata": {
        "colab": {
          "base_uri": "https://localhost:8080/"
        },
        "id": "sfSLM57JTv1t",
        "outputId": "aa43a7fd-3d8c-4743-f498-1c7f849992b1"
      },
      "execution_count": 11,
      "outputs": [
        {
          "output_type": "stream",
          "name": "stdout",
          "text": [
            "Sample Mean (x_bar): 31.67\n",
            "Population Mean (mu_0): 32.28\n",
            "T Statistic: -2.0612\n",
            "Critical T Value: 2.1009\n",
            "Decision: Fail to reject the null hypothesis\n"
          ]
        }
      ]
    },
    {
      "cell_type": "code",
      "source": [
        "# Problem Statement 8\n",
        "n = 16  # Sample size\n",
        "x_bar = 12  # Sample mean\n",
        "mu = 10  # Population mean\n",
        "s = 1.5  # Sample standard deviation\n",
        "\n",
        "# Calculate standard error\n",
        "SE = s / np.sqrt(n)\n",
        "\n",
        "# Calculate t-score\n",
        "t_score = (x_bar - mu) / SE\n",
        "\n",
        "t_score\n"
      ],
      "metadata": {
        "colab": {
          "base_uri": "https://localhost:8080/"
        },
        "id": "2jx-G4lLUIXw",
        "outputId": "0094fdfe-fbaf-4f95-ff38-757f501bbaa4"
      },
      "execution_count": 12,
      "outputs": [
        {
          "output_type": "execute_result",
          "data": {
            "text/plain": [
              "5.333333333333333"
            ]
          },
          "metadata": {},
          "execution_count": 12
        }
      ]
    },
    {
      "cell_type": "code",
      "source": [
        "# Problem Statement 9\n",
        "n = 16\n",
        "# Degrees of freedom\n",
        "df = n - 1\n",
        "\n",
        "# Get the t-score for 99% (0.99) for df = 15\n",
        "t_score_99 = stats.t.ppf(0.99, df)\n",
        "\n",
        "t_score_99\n"
      ],
      "metadata": {
        "colab": {
          "base_uri": "https://localhost:8080/"
        },
        "id": "CtLrHh-dUUGo",
        "outputId": "11e36b1e-45b2-40d8-9c36-601efa9eb976"
      },
      "execution_count": 13,
      "outputs": [
        {
          "output_type": "execute_result",
          "data": {
            "text/plain": [
              "2.602480294995493"
            ]
          },
          "metadata": {},
          "execution_count": 13
        }
      ]
    },
    {
      "cell_type": "code",
      "source": [
        "# Problem Statement 10\n",
        "\n",
        "# Degrees of freedom\n",
        "df = 24\n",
        "\n",
        "# Find the t-scores for the middle 95%\n",
        "t_lower = stats.t.ppf(0.025, df)  # lower bound (2.5%)\n",
        "t_upper = stats.t.ppf(0.975, df)  # upper bound (97.5%)\n",
        "\n",
        "t_lower, t_upper\n"
      ],
      "metadata": {
        "colab": {
          "base_uri": "https://localhost:8080/"
        },
        "id": "iZ6tD5QIUbjD",
        "outputId": "2c44568f-6ed7-43a0-d6ad-f17dd35fcfed"
      },
      "execution_count": 14,
      "outputs": [
        {
          "output_type": "execute_result",
          "data": {
            "text/plain": [
              "(-2.063898561628021, 2.0638985616280205)"
            ]
          },
          "metadata": {},
          "execution_count": 14
        }
      ]
    },
    {
      "cell_type": "code",
      "source": [
        "# Problem Statement 11\n",
        "\n",
        "# Population 1 (Bangalore to Chennai)\n",
        "n1 = 1200\n",
        "x1 = 452\n",
        "s1 = 212\n",
        "\n",
        "# Population 2 (Bangalore to Hosur)\n",
        "n2 = 800\n",
        "x2 = 523\n",
        "s2 = 185\n",
        "\n",
        "# Calculate the standard error\n",
        "SE = np.sqrt((s1**2 / n1) + (s2**2 / n2))\n",
        "\n",
        "# Calculate the test statistic\n",
        "z = (x1 - x2) / SE\n",
        "\n",
        "# Determine the critical z-values for a two-tailed test at alpha = 0.05\n",
        "alpha = 0.05\n",
        "critical_value = stats.norm.ppf(1 - alpha / 2)\n",
        "\n",
        "z, critical_value\n"
      ],
      "metadata": {
        "colab": {
          "base_uri": "https://localhost:8080/"
        },
        "id": "Wvym-LiMUiCU",
        "outputId": "cdf542c0-aa47-48ee-933e-0ffdb602d8b7"
      },
      "execution_count": 15,
      "outputs": [
        {
          "output_type": "execute_result",
          "data": {
            "text/plain": [
              "(-7.926428526759299, 1.959963984540054)"
            ]
          },
          "metadata": {},
          "execution_count": 15
        }
      ]
    },
    {
      "cell_type": "code",
      "source": [
        "# Problem Statement 12\n",
        "\n",
        "# Population 1 (Duracell)\n",
        "n1 = 100\n",
        "x1 = 308\n",
        "s1 = 84\n",
        "\n",
        "# Population 2 (Energizer)\n",
        "n2 = 100\n",
        "x2 = 254\n",
        "s2 = 67\n",
        "\n",
        "# Calculate the standard error\n",
        "SE = np.sqrt((s1**2 / n1) + (s2**2 / n2))\n",
        "\n",
        "# Calculate the test statistic\n",
        "z = (x1 - x2) / SE\n",
        "\n",
        "# Determine the critical z-values for a two-tailed test at alpha = 0.05\n",
        "alpha = 0.05\n",
        "critical_value = stats.norm.ppf(1 - alpha / 2)\n",
        "\n",
        "# Display results\n",
        "z, critical_value\n"
      ],
      "metadata": {
        "colab": {
          "base_uri": "https://localhost:8080/"
        },
        "id": "B8VTEaayUreW",
        "outputId": "54057298-fdb1-4342-f6a8-5427ecc905c0"
      },
      "execution_count": 16,
      "outputs": [
        {
          "output_type": "execute_result",
          "data": {
            "text/plain": [
              "(5.025702668336442, 1.959963984540054)"
            ]
          },
          "metadata": {},
          "execution_count": 16
        }
      ]
    },
    {
      "cell_type": "code",
      "source": [
        "# Problem Statement 13\n",
        "\n",
        "# Population 1 (Price of sugar = Rs. 27.50)\n",
        "n1 = 14\n",
        "x1 = 0.317\n",
        "s1 = 0.12\n",
        "\n",
        "# Population 2 (Price of sugar = Rs. 20.00)\n",
        "n2 = 9\n",
        "x2 = 0.21\n",
        "s2 = 0.11\n",
        "\n",
        "# Step 1: Calculate the pooled variance\n",
        "sp_squared = ((n1 - 1) * s1**2 + (n2 - 1) * s2**2) / (n1 + n2 - 2)\n",
        "\n",
        "# Step 2: Calculate the standard error\n",
        "SE = np.sqrt(sp_squared * (1/n1 + 1/n2))\n",
        "\n",
        "# Step 3: Calculate the test statistic\n",
        "t = (x1 - x2) / SE\n",
        "\n",
        "# Step 4: Determine degrees of freedom\n",
        "df = n1 + n2 - 2\n",
        "\n",
        "# Step 5: Determine the critical t-value for alpha = 0.05 (two-tailed)\n",
        "alpha = 0.05\n",
        "critical_value = stats.t.ppf(1 - alpha / 2, df)\n",
        "\n",
        "# Display results\n",
        "print(\"Test statistic (t):\", t)\n",
        "print(\"Critical t-value for alpha = 0.05:\", critical_value)\n",
        "\n",
        "# Decision\n",
        "if abs(t) > critical_value:\n",
        "    print(\"Reject the null hypothesis: There is a significant difference in the average percentage increase in the price of sugar.\")\n",
        "else:\n",
        "    print(\"Fail to reject the null hypothesis: There is no significant difference in the average percentage increase in the price of sugar.\")\n"
      ],
      "metadata": {
        "colab": {
          "base_uri": "https://localhost:8080/"
        },
        "id": "oOBJ9z0kUzwl",
        "outputId": "48d9b2e0-e2c8-4e8d-e43b-183a34807788"
      },
      "execution_count": 17,
      "outputs": [
        {
          "output_type": "stream",
          "name": "stdout",
          "text": [
            "Test statistic (t): 2.15355322387416\n",
            "Critical t-value for alpha = 0.05: 2.079613844727662\n",
            "Reject the null hypothesis: There is a significant difference in the average percentage increase in the price of sugar.\n"
          ]
        }
      ]
    },
    {
      "cell_type": "code",
      "source": [
        "# Problem Statement 14\n",
        "\n",
        "# Population 1 (Before reduction)\n",
        "n1 = 15\n",
        "x1 = 6598\n",
        "s1 = 844\n",
        "\n",
        "# Population 2 (After reduction)\n",
        "n2 = 12\n",
        "x2 = 6870\n",
        "s2 = 669\n",
        "\n",
        "# Step 1: Calculate the pooled variance\n",
        "sp_squared = ((n1 - 1) * s1**2 + (n2 - 1) * s2**2) / (n1 + n2 - 2)\n",
        "\n",
        "# Step 2: Calculate the standard error\n",
        "SE = np.sqrt(sp_squared * (1/n1 + 1/n2))\n",
        "\n",
        "# Step 3: Calculate the test statistic\n",
        "t = (x1 - x2) / SE\n",
        "\n",
        "# Step 4: Determine degrees of freedom\n",
        "df = n1 + n2 - 2\n",
        "\n",
        "# Step 5: Determine the critical t-value for alpha = 0.05 (two-tailed)\n",
        "alpha = 0.05\n",
        "critical_value = stats.t.ppf(1 - alpha / 2, df)\n",
        "\n",
        "# Display results\n",
        "print(\"Test statistic (t):\", t)\n",
        "print(\"Critical t-value for alpha = 0.05:\", critical_value)\n",
        "\n",
        "# Decision\n",
        "if abs(t) > critical_value:\n",
        "    print(\"Reject the null hypothesis: There is evidence that the price reduction increased sales.\")\n",
        "else:\n",
        "    print(\"Fail to reject the null hypothesis: There is no evidence that the price reduction increased sales.\")\n"
      ],
      "metadata": {
        "colab": {
          "base_uri": "https://localhost:8080/"
        },
        "id": "DJn234abU9Kl",
        "outputId": "f2164469-9d98-4b08-913c-ebc01301a7de"
      },
      "execution_count": 18,
      "outputs": [
        {
          "output_type": "stream",
          "name": "stdout",
          "text": [
            "Test statistic (t): -0.9098300343990461\n",
            "Critical t-value for alpha = 0.05: 2.059538552753294\n",
            "Fail to reject the null hypothesis: There is no evidence that the price reduction increased sales.\n"
          ]
        }
      ]
    },
    {
      "cell_type": "code",
      "source": [
        "# Problem Statement 15\n",
        "\n",
        "# Population 1 (1980)\n",
        "n1 = 1000\n",
        "x1 = 53\n",
        "p1 = x1 / n1\n",
        "\n",
        "# Population 2 (1995)\n",
        "n2 = 100\n",
        "x2 = 43\n",
        "p2 = x2 / n2\n",
        "\n",
        "# Step 1: Calculate the pooled proportion\n",
        "p = (x1 + x2) / (n1 + n2)\n",
        "\n",
        "# Step 2: Calculate the standard error\n",
        "SE = np.sqrt(p * (1 - p) * (1/n1 + 1/n2))\n",
        "\n",
        "# Step 3: Calculate the test statistic (Z)\n",
        "Z = (p1 - p2) / SE\n",
        "\n",
        "# Step 4: Determine the critical Z-value for alpha = 0.05 (two-tailed)\n",
        "alpha = 0.05\n",
        "critical_value = stats.norm.ppf(1 - alpha / 2)\n",
        "\n",
        "# Display results\n",
        "print(\"Test statistic (Z):\", Z)\n",
        "print(\"Critical Z-value for alpha = 0.05:\", critical_value)\n",
        "\n",
        "# Decision\n",
        "if abs(Z) > critical_value:\n",
        "    print(\"Reject the null hypothesis: There is evidence that the banks’ share of the car loan market is different in 1980 and 1995.\")\n",
        "else:\n",
        "    print(\"Fail to reject the null hypothesis: There is no evidence that the banks’ share of the car loan market is different in 1980 and 1995.\")\n"
      ],
      "metadata": {
        "colab": {
          "base_uri": "https://localhost:8080/"
        },
        "id": "tlMooMpFVHy2",
        "outputId": "9548ec73-ee1f-414a-b6d8-1f7188f54794"
      },
      "execution_count": 19,
      "outputs": [
        {
          "output_type": "stream",
          "name": "stdout",
          "text": [
            "Test statistic (Z): -12.736063621349617\n",
            "Critical Z-value for alpha = 0.05: 1.959963984540054\n",
            "Reject the null hypothesis: There is evidence that the banks’ share of the car loan market is different in 1980 and 1995.\n"
          ]
        }
      ]
    },
    {
      "cell_type": "code",
      "source": [
        "# Problem Statement 16\n",
        "\n",
        "# Population 1 (With Sweepstakes)\n",
        "n1 = 300\n",
        "x1 = 120\n",
        "p1 = x1 / n1  # Sample proportion with sweepstakes\n",
        "\n",
        "# Population 2 (No Sweepstakes)\n",
        "n2 = 700\n",
        "x2 = 140\n",
        "p2 = x2 / n2  # Sample proportion without sweepstakes\n",
        "\n",
        "# Step 1: Calculate the pooled proportion\n",
        "p = (x1 + x2) / (n1 + n2)\n",
        "\n",
        "# Step 2: Calculate the standard error (SE)\n",
        "SE = np.sqrt(p * (1 - p) * (1/n1 + 1/n2))\n",
        "\n",
        "# Step 3: Calculate the test statistic (Z)\n",
        "Z = (p1 - p2 - 0.10) / SE\n",
        "\n",
        "# Step 4: Determine the critical Z-value for alpha = 0.05 (one-tailed)\n",
        "alpha = 0.05\n",
        "critical_value = stats.norm.ppf(1 - alpha)\n",
        "\n",
        "# Display results\n",
        "print(\"Test statistic (Z):\", Z)\n",
        "print(\"Critical Z-value for alpha = 0.05:\", critical_value)\n",
        "\n",
        "# Decision\n",
        "if Z > critical_value:\n",
        "    print(\"Reject the null hypothesis: There is evidence that the proportion of buyers with sweepstakes is at least 10% higher than without.\")\n",
        "else:\n",
        "    print(\"Fail to reject the null hypothesis: There is no evidence that the proportion of buyers with sweepstakes is at least 10% higher than without.\")\n"
      ],
      "metadata": {
        "colab": {
          "base_uri": "https://localhost:8080/"
        },
        "id": "Dh3JejQYVShi",
        "outputId": "72bc3e59-58e7-4107-a97c-5066d9d608f6"
      },
      "execution_count": 20,
      "outputs": [
        {
          "output_type": "stream",
          "name": "stdout",
          "text": [
            "Test statistic (Z): 3.303749523611152\n",
            "Critical Z-value for alpha = 0.05: 1.6448536269514722\n",
            "Reject the null hypothesis: There is evidence that the proportion of buyers with sweepstakes is at least 10% higher than without.\n"
          ]
        }
      ]
    },
    {
      "cell_type": "code",
      "source": [
        "# Problem Statement 17\n",
        "\n",
        "# Observed frequencies for the die rolls\n",
        "observed_frequencies = np.array([16, 20, 25, 14, 29, 28])\n",
        "\n",
        "# Expected frequencies (assuming a fair die)\n",
        "total_rolls = 132\n",
        "expected_frequency = total_rolls / 6  # 22 for each side\n",
        "expected_frequencies = np.array([expected_frequency] * 6)\n",
        "\n",
        "# Perform Chi-Square goodness-of-fit test\n",
        "chi2_statistic, p_value = chisquare(observed_frequencies, expected_frequencies)\n",
        "\n",
        "# Degrees of freedom\n",
        "degrees_of_freedom = len(observed_frequencies) - 1\n",
        "\n",
        "# Display results\n",
        "print(f\"Chi-Square Statistic: {chi2_statistic:.4f}\")\n",
        "print(f\"P-Value: {p_value:.4f}\")\n",
        "print(f\"Degrees of Freedom: {degrees_of_freedom}\")\n",
        "\n",
        "# Critical value for alpha = 0.05\n",
        "alpha = 0.05\n",
        "critical_value = chi2.ppf(1 - alpha, degrees_of_freedom)\n",
        "\n",
        "print(f\"Critical Value (alpha = {alpha}): {critical_value:.4f}\")\n",
        "\n",
        "# Decision based on significance level\n",
        "if chi2_statistic > critical_value:\n",
        "    print(\"Reject the null hypothesis: The die is biased.\")\n",
        "else:\n",
        "    print(\"Fail to reject the null hypothesis: The die is unbiased.\")\n",
        "\n"
      ],
      "metadata": {
        "colab": {
          "base_uri": "https://localhost:8080/"
        },
        "id": "3JEoGBX8VbeS",
        "outputId": "1a6d9867-f84c-4343-d662-1c29386b725b"
      },
      "execution_count": 25,
      "outputs": [
        {
          "output_type": "stream",
          "name": "stdout",
          "text": [
            "Chi-Square Statistic: 9.0000\n",
            "P-Value: 0.1091\n",
            "Degrees of Freedom: 5\n",
            "Critical Value (alpha = 0.05): 11.0705\n",
            "Fail to reject the null hypothesis: The die is unbiased.\n"
          ]
        }
      ]
    },
    {
      "cell_type": "code",
      "source": [
        "# Problem Statement 18\n",
        "\n",
        "# Create the contingency table\n",
        "contingency_table = np.array([[2792, 1486],\n",
        "                               [3591, 2131]])\n",
        "\n",
        "# Perform the chi-square test\n",
        "chi2_statistic, p_value, dof, expected = chi2_contingency(contingency_table)\n",
        "\n",
        "# Output the results\n",
        "print(f\"Chi-Square Statistic: {chi2_statistic:.4f}\")\n",
        "print(f\"P-Value: {p_value:.4f}\")\n",
        "print(f\"Degrees of Freedom: {dof}\")\n",
        "print(\"Expected Frequencies:\\n\", expected)\n",
        "\n",
        "# Decision based on significance level\n",
        "alpha = 0.05\n",
        "if p_value < alpha:\n",
        "    print(\"Reject the null hypothesis: There is a significant association between gender and voting participation.\")\n",
        "else:\n",
        "    print(\"Fail to reject the null hypothesis: There is no significant association between gender and voting participation.\")\n"
      ],
      "metadata": {
        "colab": {
          "base_uri": "https://localhost:8080/"
        },
        "id": "CmMOkv0nVz8q",
        "outputId": "368086ff-cc90-4523-97bd-b9d0aaeabe7f"
      },
      "execution_count": 27,
      "outputs": [
        {
          "output_type": "stream",
          "name": "stdout",
          "text": [
            "Chi-Square Statistic: 6.5523\n",
            "P-Value: 0.0105\n",
            "Degrees of Freedom: 1\n",
            "Expected Frequencies:\n",
            " [[2730.6474 1547.3526]\n",
            " [3652.3526 2069.6474]]\n",
            "Reject the null hypothesis: There is a significant association between gender and voting participation.\n"
          ]
        }
      ]
    },
    {
      "cell_type": "code",
      "source": [
        "# Problem Statement 19\n",
        "\n",
        "# Observed frequencies\n",
        "observed = np.array([41, 19, 24, 16])\n",
        "\n",
        "# Expected frequencies (if all candidates are equally popular)\n",
        "expected = np.array([25, 25, 25, 25])\n",
        "\n",
        "# Calculate the Chi-Square statistic\n",
        "chi_square_statistic = np.sum((observed - expected) ** 2 / expected)\n",
        "\n",
        "# Calculate degrees of freedom\n",
        "df = len(observed) - 1\n",
        "\n",
        "# Get the critical value for Chi-Square at df = 3 and alpha = 0.05\n",
        "alpha = 0.05\n",
        "critical_value = chi2.ppf(1 - alpha, df)\n",
        "\n",
        "# Output the results\n",
        "print(f\"Chi-Square Statistic: {chi_square_statistic:.2f}\")\n",
        "print(f\"Critical Value (df={df}, alpha={alpha}): {critical_value:.2f}\")\n",
        "\n",
        "# Decision based on the comparison\n",
        "if chi_square_statistic > critical_value:\n",
        "    print(\"Reject the null hypothesis: Not all candidates are equally popular.\")\n",
        "else:\n",
        "    print(\"Fail to reject the null hypothesis: There is no evidence that the candidates are not equally popular.\")\n"
      ],
      "metadata": {
        "colab": {
          "base_uri": "https://localhost:8080/"
        },
        "id": "rRa-ZL6DWRA3",
        "outputId": "99b6ca46-999a-4512-a66b-ebbac51dc5e7"
      },
      "execution_count": 28,
      "outputs": [
        {
          "output_type": "stream",
          "name": "stdout",
          "text": [
            "Chi-Square Statistic: 14.96\n",
            "Critical Value (df=3, alpha=0.05): 7.81\n",
            "Reject the null hypothesis: Not all candidates are equally popular.\n"
          ]
        }
      ]
    },
    {
      "cell_type": "code",
      "source": [
        "# Problem Statement 20\n",
        "\n",
        "# Observed frequencies (rows represent age groups, columns represent photographs)\n",
        "observed = np.array([[18, 22, 20],\n",
        "                     [2, 28, 40],\n",
        "                     [20, 10, 40]])\n",
        "\n",
        "# Total observed values\n",
        "total_observed = observed.sum()\n",
        "\n",
        "# Row totals and column totals\n",
        "row_totals = observed.sum(axis=1)\n",
        "column_totals = observed.sum(axis=0)\n",
        "\n",
        "# Calculate expected frequencies\n",
        "expected = np.zeros_like(observed, dtype=float)\n",
        "for i in range(observed.shape[0]):\n",
        "    for j in range(observed.shape[1]):\n",
        "        expected[i, j] = (row_totals[i] * column_totals[j]) / total_observed\n",
        "\n",
        "# Calculate Chi-Square statistic\n",
        "chi_square_statistic = np.sum((observed - expected) ** 2 / expected)\n",
        "\n",
        "# Calculate degrees of freedom\n",
        "df = (observed.shape[0] - 1) * (observed.shape[1] - 1)\n",
        "\n",
        "# Get the critical value for Chi-Square at df = 4 and alpha = 0.05\n",
        "alpha = 0.05\n",
        "critical_value = chi2.ppf(1 - alpha, df)\n",
        "\n",
        "# Output the results\n",
        "print(f\"Chi-Square Statistic: {chi_square_statistic:.2f}\")\n",
        "print(f\"Critical Value (df={df}, alpha={alpha}): {critical_value:.2f}\")\n",
        "\n",
        "# Decision based on the comparison\n",
        "if chi_square_statistic > critical_value:\n",
        "    print(\"Reject the null hypothesis: There is a significant relationship between age and photograph preference.\")\n",
        "else:\n",
        "    print(\"Fail to reject the null hypothesis: There is no evidence of a significant relationship between age and photograph preference.\")\n"
      ],
      "metadata": {
        "colab": {
          "base_uri": "https://localhost:8080/"
        },
        "id": "fOClINSyWliL",
        "outputId": "34d5fb0c-2030-434c-81c2-2e052737ccb3"
      },
      "execution_count": 29,
      "outputs": [
        {
          "output_type": "stream",
          "name": "stdout",
          "text": [
            "Chi-Square Statistic: 29.60\n",
            "Critical Value (df=4, alpha=0.05): 9.49\n",
            "Reject the null hypothesis: There is a significant relationship between age and photograph preference.\n"
          ]
        }
      ]
    },
    {
      "cell_type": "code",
      "source": [
        "# Problem Statement 21\n",
        "\n",
        "# Observed frequencies\n",
        "observed = np.array([[18, 40],  # Conform\n",
        "                     [32, 10]]) # Not Conform\n",
        "\n",
        "# Total observed values\n",
        "total_observed = observed.sum()\n",
        "\n",
        "# Row totals and column totals\n",
        "row_totals = observed.sum(axis=1)\n",
        "column_totals = observed.sum(axis=0)\n",
        "\n",
        "# Calculate expected frequencies\n",
        "expected = np.zeros_like(observed, dtype=float)\n",
        "for i in range(observed.shape[0]):\n",
        "    for j in range(observed.shape[1]):\n",
        "        expected[i, j] = (row_totals[i] * column_totals[j]) / total_observed\n",
        "\n",
        "# Calculate Chi-Square statistic\n",
        "chi_square_statistic = np.sum((observed - expected) ** 2 / expected)\n",
        "\n",
        "# Calculate degrees of freedom\n",
        "df = (observed.shape[0] - 1) * (observed.shape[1] - 1)\n",
        "\n",
        "# Get the critical value for Chi-Square at df = 1 and alpha = 0.05\n",
        "alpha = 0.05\n",
        "critical_value = chi2.ppf(1 - alpha, df)\n",
        "\n",
        "# Output the results\n",
        "print(f\"Chi-Square Statistic: {chi_square_statistic:.2f}\")\n",
        "print(f\"Critical Value (df={df}, alpha={alpha}): {critical_value:.2f}\")\n",
        "\n",
        "# Decision based on the comparison\n",
        "if chi_square_statistic > critical_value:\n",
        "    print(\"Reject the null hypothesis: There is a significant difference in conformity rates between the support and no support conditions.\")\n",
        "else:\n",
        "    print(\"Fail to reject the null hypothesis: There is no evidence of a significant difference in conformity rates between the support and no support conditions.\")\n"
      ],
      "metadata": {
        "colab": {
          "base_uri": "https://localhost:8080/"
        },
        "id": "H5z3l3-6XIEO",
        "outputId": "71777811-47a4-4f13-fbcd-61c225dab752"
      },
      "execution_count": 30,
      "outputs": [
        {
          "output_type": "stream",
          "name": "stdout",
          "text": [
            "Chi-Square Statistic: 19.87\n",
            "Critical Value (df=1, alpha=0.05): 3.84\n",
            "Reject the null hypothesis: There is a significant difference in conformity rates between the support and no support conditions.\n"
          ]
        }
      ]
    },
    {
      "cell_type": "code",
      "source": [
        "# Problem Statement 22\n",
        "\n",
        "# Observed frequencies\n",
        "observed = np.array([[12, 32],  # Leaders\n",
        "                     [22, 14],  # Followers\n",
        "                     [9, 6]])   # Unclassifiable\n",
        "\n",
        "# Total observed values\n",
        "total_observed = observed.sum()\n",
        "\n",
        "# Row totals and column totals\n",
        "row_totals = observed.sum(axis=1)\n",
        "column_totals = observed.sum(axis=0)\n",
        "\n",
        "# Calculate expected frequencies\n",
        "expected = np.zeros_like(observed, dtype=float)\n",
        "for i in range(observed.shape[0]):\n",
        "    for j in range(observed.shape[1]):\n",
        "        expected[i, j] = (row_totals[i] * column_totals[j]) / total_observed\n",
        "\n",
        "# Calculate Chi-Square statistic\n",
        "chi_square_statistic = np.sum((observed - expected) ** 2 / expected)\n",
        "\n",
        "# Calculate degrees of freedom\n",
        "df = (observed.shape[0] - 1) * (observed.shape[1] - 1)\n",
        "\n",
        "# Get the critical value for Chi-Square at df = 2 and alpha = 0.01\n",
        "alpha = 0.01\n",
        "critical_value = chi2.ppf(1 - alpha, df)\n",
        "\n",
        "# Output the results\n",
        "print(f\"Chi-Square Statistic: {chi_square_statistic:.2f}\")\n",
        "print(f\"Critical Value (df={df}, alpha={alpha}): {critical_value:.2f}\")\n",
        "\n",
        "# Decision based on the comparison\n",
        "if chi_square_statistic > critical_value:\n",
        "    print(\"Reject the null hypothesis: There is a significant relationship between height and leadership qualities.\")\n",
        "else:\n",
        "    print(\"Fail to reject the null hypothesis: There is no evidence of a significant relationship between height and leadership qualities.\")\n"
      ],
      "metadata": {
        "colab": {
          "base_uri": "https://localhost:8080/"
        },
        "id": "TyXERySMYv8F",
        "outputId": "052439d5-03c1-4119-f163-0e3cb44be72f"
      },
      "execution_count": 31,
      "outputs": [
        {
          "output_type": "stream",
          "name": "stdout",
          "text": [
            "Chi-Square Statistic: 10.71\n",
            "Critical Value (df=2, alpha=0.01): 9.21\n",
            "Reject the null hypothesis: There is a significant relationship between height and leadership qualities.\n"
          ]
        }
      ]
    },
    {
      "cell_type": "code",
      "source": [
        "# Problem Statement 23\n",
        "\n",
        "# Observed frequencies\n",
        "observed = np.array([[679, 103, 114],  # Employed\n",
        "                     [63, 10, 20],    # Unemployed\n",
        "                     [42, 18, 25]])   # Not in Labor Force\n",
        "\n",
        "# Total observed values\n",
        "total_observed = observed.sum()\n",
        "\n",
        "# Row totals and column totals\n",
        "row_totals = observed.sum(axis=1)\n",
        "column_totals = observed.sum(axis=0)\n",
        "\n",
        "# Calculate expected frequencies\n",
        "expected = np.zeros_like(observed, dtype=float)\n",
        "for i in range(observed.shape[0]):\n",
        "    for j in range(observed.shape[1]):\n",
        "        expected[i, j] = (row_totals[i] * column_totals[j]) / total_observed\n",
        "\n",
        "# Calculate Chi-Square statistic\n",
        "chi_square_statistic = np.sum((observed - expected) ** 2 / expected)\n",
        "\n",
        "# Calculate degrees of freedom\n",
        "df = (observed.shape[0] - 1) * (observed.shape[1] - 1)\n",
        "\n",
        "# Get the critical value for Chi-Square at alpha = 0.05\n",
        "alpha = 0.05\n",
        "critical_value = chi2.ppf(1 - alpha, df)\n",
        "\n",
        "# Output the results\n",
        "print(f\"Chi-Square Statistic: {chi_square_statistic:.2f}\")\n",
        "print(f\"Critical Value (df={df}, alpha={alpha}): {critical_value:.2f}\")\n",
        "\n",
        "# Decision based on the comparison\n",
        "if chi_square_statistic > critical_value:\n",
        "    print(\"Reject the null hypothesis: There is a significant association between marital status and labor force status.\")\n",
        "else:\n",
        "    print(\"Fail to reject the null hypothesis: There is no evidence of a significant association between marital status and labor force status.\")\n"
      ],
      "metadata": {
        "colab": {
          "base_uri": "https://localhost:8080/"
        },
        "id": "CfrfK6UWZVDg",
        "outputId": "b1f6e56a-1d87-4d94-e390-2e73e5ed5eac"
      },
      "execution_count": 32,
      "outputs": [
        {
          "output_type": "stream",
          "name": "stdout",
          "text": [
            "Chi-Square Statistic: 31.61\n",
            "Critical Value (df=4, alpha=0.05): 9.49\n",
            "Reject the null hypothesis: There is a significant association between marital status and labor force status.\n"
          ]
        }
      ]
    }
  ]
}